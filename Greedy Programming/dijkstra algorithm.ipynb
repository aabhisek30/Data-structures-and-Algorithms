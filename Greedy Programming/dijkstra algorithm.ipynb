{
 "cells": [
  {
   "cell_type": "code",
   "execution_count": 11,
   "metadata": {},
   "outputs": [
    {
     "name": "stdout",
     "output_type": "stream",
     "text": [
      "0 0\n",
      "1 4\n",
      "2 12\n",
      "3 19\n",
      "4 21\n",
      "5 11\n",
      "6 9\n",
      "7 8\n",
      "8 14\n"
     ]
    }
   ],
   "source": [
    "infinite_value = 99999  #used to represent infinite value\n",
    "class Graph:\n",
    "    def __init__(self,vertices):\n",
    "        \"\"\"\n",
    "        Input = no of vertices\n",
    "        This function is used to initiliaze the graph in the form of adjancey matrix\n",
    "        \"\"\"\n",
    "        self.no_of_vertices = vertices  #no of vertices\n",
    "        self.graph = [[0 for j in range(vertices)] for i in range(vertices)] #adjacncey matrix to represent graph\n",
    "    \n",
    "    def display(self,distance):\n",
    "        \"\"\"\n",
    "        Input - list of distance of each node from source node\n",
    "        This function prints the distance of each node from source node\n",
    "        \"\"\"\n",
    "        for node in range(self.no_of_vertices):\n",
    "            print(node,distance[node])\n",
    "    \n",
    "    def nearest_node(self,distance,spset): #spset - It maintains the list of node which are already visited\n",
    "        \"\"\"\n",
    "        Input = distance and spset list\n",
    "        This function returns the node with minimum edge and update spset also according to it\n",
    "        \"\"\"\n",
    "        min_dist = infinite_value #putting to larger value so that edge with minimum node can be found \n",
    "        # It return the index which have minimum distance\n",
    "        for node in range(self.no_of_vertices):           \n",
    "            if distance[node]<min_dist and spset[node] == False:\n",
    "                min_dist = distance[node]\n",
    "                min_index = node\n",
    "        return min_index\n",
    "    \n",
    "    def dijkstra(self,source):\n",
    "        \"\"\"\n",
    "        Input - source node\n",
    "        output - This function returns list of min distance of each node from source node\n",
    "        \"\"\"\n",
    "        distance = [infinite_value]*self.no_of_vertices\n",
    "        distance[source] = 0   \n",
    "        spset = [False]*self.no_of_vertices\n",
    "        \n",
    "        for node in range(self.no_of_vertices):\n",
    "            u = self.nearest_node(distance,spset)\n",
    "            spset[u] = True\n",
    "            for v in range(self.no_of_vertices):\n",
    "                if self.graph[u][v]>0 and spset[v] == False and distance[v]>distance[u]+self.graph[u][v]:\n",
    "                    distance[v] = distance[u] + self.graph[u][v]\n",
    "        self.display(distance) \n",
    "g = Graph(9) \n",
    "g.graph = [[0, 4, 0, 0, 0, 0, 0, 8, 0], \n",
    "        [4, 0, 8, 0, 0, 0, 0, 11, 0], \n",
    "        [0, 8, 0, 7, 0, 4, 0, 0, 2], \n",
    "        [0, 0, 7, 0, 9, 14, 0, 0, 0], \n",
    "        [0, 0, 0, 9, 0, 10, 0, 0, 0], \n",
    "        [0, 0, 4, 14, 10, 0, 2, 0, 0], \n",
    "        [0, 0, 0, 0, 0, 2, 0, 1, 6], \n",
    "        [8, 11, 0, 0, 0, 0, 1, 0, 7], \n",
    "        [0, 0, 2, 0, 0, 0, 6, 7, 0] \n",
    "        ]; \n",
    "  \n",
    "g.dijkstra(0);         "
   ]
  }
 ],
 "metadata": {
  "kernelspec": {
   "display_name": "Python 3",
   "language": "python",
   "name": "python3"
  },
  "language_info": {
   "codemirror_mode": {
    "name": "ipython",
    "version": 3
   },
   "file_extension": ".py",
   "mimetype": "text/x-python",
   "name": "python",
   "nbconvert_exporter": "python",
   "pygments_lexer": "ipython3",
   "version": "3.8.3"
  }
 },
 "nbformat": 4,
 "nbformat_minor": 4
}
