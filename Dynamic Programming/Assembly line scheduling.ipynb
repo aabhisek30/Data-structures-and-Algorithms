{
 "cells": [
  {
   "cell_type": "code",
   "execution_count": 4,
   "metadata": {
    "id": "eyiUtiBSGkN5"
   },
   "outputs": [],
   "source": [
    "def printf(l,n,line_no):\n",
    "    \"\"\"\n",
    "    This function prints station number and line number best for shortest cost\n",
    "    \"\"\"\n",
    "    print(\"line  station\")\n",
    "    values = []\n",
    "    while n!=0:\n",
    "        values.append(n)\n",
    "        n = n-1\n",
    "    for j in values:\n",
    "        i = l[j-1]\n",
    "        if i==0:\n",
    "            print(\"station {} line {}\".format(j-1,1))\n",
    "        else:\n",
    "            print(\"station {} line {}\".format(j-1,i))"
   ]
  },
  {
   "cell_type": "code",
   "execution_count": 7,
   "metadata": {
    "id": "iPay9QakGkN8"
   },
   "outputs": [],
   "source": [
    "def assembly_function(a1,a2,t1,t2,entry,exit,n):\n",
    "    \"\"\"\n",
    "    This function performs dynamic approach to solve assembly line proplem\n",
    "    \"\"\"\n",
    "    f1 = [0 for i in range(n)]\n",
    "    f2 = [0 for i in range(n)]\n",
    "    l1 = [0 for i in range(n)]\n",
    "    l2 = [0 for i in range(n)]\n",
    "    total_cost = 0\n",
    "    f1[0] = a1[0]+entry[0]\n",
    "    f2[0] = a2[0]+entry[1]\n",
    "    for i in range(1,n):\n",
    "        if f1[i-1] + a1[i] <= f2[i-1] + a1[i] + t2[i-1]:\n",
    "            f1[i] = f1[i-1] + a1[i]\n",
    "            l1[i] = 1\n",
    "        else:\n",
    "            f1[i] = f2[i-1] +a1[i] + t2[i-1]\n",
    "            l1[i] = 2\n",
    "        if f2[i-1] + a2[i] <= f1[i-1] +a2[i] + t1[i-1]:\n",
    "            f2[i] = f2[i-1] + a2[i]\n",
    "            l2[i] = 2\n",
    "        else:\n",
    "            f2[i] = f1[i-1] +a2[i] + t1[i-1]\n",
    "            l2[i] = 1\n",
    "    if f1[n-1] + exit[0] <= f2[n-1] + exit[1]:\n",
    "        total_cost =  f1[n-1] + exit[0]\n",
    "        print(\"total_cost\",total_cost)\n",
    "        printf(l1,n,1)\n",
    "    else:\n",
    "        total_cost = f2[n-1] + exit[1]\n",
    "        print(\"total_cost\",total_cost)\n",
    "        printf(l2,n,2)\n",
    "        "
   ]
  },
  {
   "cell_type": "code",
   "execution_count": 6,
   "metadata": {
    "colab": {
     "base_uri": "https://localhost:8080/",
     "height": 833
    },
    "id": "M_gZVcjCGkN-",
    "outputId": "301031c7-a175-4e52-8c50-668bab90a0f5"
   },
   "outputs": [
    {
     "name": "stdout",
     "output_type": "stream",
     "text": [
      "enter the number of stations5\n",
      "enter the working time of each station at line 1\n",
      "7\n",
      "9\n",
      "3\n",
      "4\n",
      "8\n",
      "enter the working time of each station at line 2\n",
      "8\n",
      "5\n",
      "6\n",
      "4\n",
      "5\n",
      "enter the migrating time from each station of line 1 to next station in line 2\n",
      "2\n",
      "3\n",
      "1\n",
      "3\n",
      "enter the migrating time from each station of line 1 to next station in line 2\n",
      "2\n",
      "1\n",
      "2\n",
      "2\n",
      "enter the entry and exists time of line 1 and line 2 one by one\n",
      "2\n",
      "3\n",
      "4\n",
      "6\n",
      "total_cost 35\n",
      "line  station\n",
      "station 4 line 1\n",
      "station 3 line 1\n",
      "station 2 line 2\n",
      "station 1 line 1\n",
      "station 0 line 1\n"
     ]
    }
   ],
   "source": [
    "def input_data():\n",
    "    \"\"\"\n",
    "    This function takes input for the assembly line stations\n",
    "    \"\"\"\n",
    "    no_of_stations = int(input(\"enter the number of stations\"))\n",
    "    a1 = []\n",
    "    a2 = []\n",
    "    t1 = []\n",
    "    t2 = []\n",
    "    entry = []\n",
    "    exit = []\n",
    "    index = 0\n",
    "    print(\"enter the working time of each station at line 1\")\n",
    "    while index<no_of_stations:\n",
    "        a1.append(int(input()))\n",
    "        index +=1\n",
    "    index = 0\n",
    "    print(\"enter the working time of each station at line 2\")\n",
    "    while index<no_of_stations:\n",
    "        a2.append(int(input()))\n",
    "        index +=1\n",
    "    index = 0\n",
    "    print(\"enter the migrating time from each station of line 1 to next station in line 2\")\n",
    "    while index<no_of_stations-1:\n",
    "        t1.append(int(input()))\n",
    "        index +=1\n",
    "    index = 0\n",
    "    print(\"enter the migrating time from each station of line 1 to next station in line 2\")\n",
    "    while index<no_of_stations-1:\n",
    "        t2.append(int(input()))\n",
    "        index +=1\n",
    "    index = 0\n",
    "    print(\"enter the entry and exists time of line 1 and line 2 one by one\")\n",
    "    while index<2:\n",
    "        entry.append(int(input()))\n",
    "        exit.append(int(input()))\n",
    "        index +=1\n",
    "    assembly_function(a1,a2,t1,t2,entry,exit,no_of_stations)\n",
    "input_data()"
   ]
  }
 ],
 "metadata": {
  "colab": {
   "name": "Assembly line scheduling.ipynb",
   "provenance": []
  },
  "kernelspec": {
   "display_name": "Python 3",
   "language": "python",
   "name": "python3"
  },
  "language_info": {
   "codemirror_mode": {
    "name": "ipython",
    "version": 3
   },
   "file_extension": ".py",
   "mimetype": "text/x-python",
   "name": "python",
   "nbconvert_exporter": "python",
   "pygments_lexer": "ipython3",
   "version": "3.8.3"
  }
 },
 "nbformat": 4,
 "nbformat_minor": 1
}
