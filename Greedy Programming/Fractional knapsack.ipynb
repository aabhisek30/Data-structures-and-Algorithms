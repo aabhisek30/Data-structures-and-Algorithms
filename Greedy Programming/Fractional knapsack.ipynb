{
 "cells": [
  {
   "cell_type": "code",
   "execution_count": 5,
   "metadata": {},
   "outputs": [],
   "source": [
    "def printf(item_fill,total_profit,items,bag_weight):\n",
    "    \"\"\"\n",
    "    This function generates detailed report of item picked in the knapsack\n",
    "    \"\"\"\n",
    "    print(\"*\"*20)\n",
    "    print(\"Total profit earned\",total_profit)\n",
    "    print(\"*\"*20)\n",
    "    print(\"Detailed report of the item filled in the bag\")\n",
    "    for key,value in item_fill.items():\n",
    "        if value == 1:\n",
    "            print(\"Item {} is fully filled in the bag\".format(key))\n",
    "        elif value == 0:\n",
    "            print(\"Item {} is not filled in the bag\".format(key))\n",
    "        else:\n",
    "            print(\"Item {} is parital filled {} in the bag\".format(key,value))"
   ]
  },
  {
   "cell_type": "code",
   "execution_count": 6,
   "metadata": {},
   "outputs": [],
   "source": [
    "def knapsack(items,bag_weight):\n",
    "    \"\"\"\n",
    "    This function calculates profit ratio of weight profit of items, sort them and implement greedy algorithm\n",
    "    \"\"\"\n",
    "    items = sorted(items,key = lambda item:item[2])[::-1]\n",
    "    bag_fill = 0.0\n",
    "    item_fill = {}\n",
    "    total_profit = 0.0\n",
    "    while bag_weight != 0.0:\n",
    "        for i in range(len(items)):\n",
    "            tuple1 = items[i]\n",
    "            weight,profit,ratio = tuple1\n",
    "            if weight <= bag_weight:\n",
    "                bag_fill += weight\n",
    "                total_profit += profit\n",
    "                item_fill[i] = 1\n",
    "                bag_weight -= weight\n",
    "            else:\n",
    "                total_profit += round((bag_weight * profit)/weight,2)\n",
    "                bag_fill += bag_weight\n",
    "                item_fill[i] = round((bag_weight)/weight,2)\n",
    "                bag_weight = 0                \n",
    "    printf(item_fill,total_profit,items,bag_weight)"
   ]
  },
  {
   "cell_type": "code",
   "execution_count": 7,
   "metadata": {},
   "outputs": [
    {
     "name": "stdout",
     "output_type": "stream",
     "text": [
      "enter the bag capacity\t100\n",
      "enter the number of items\t5\n",
      "enter the weight\t10\n",
      "enter the profit value\t20\n",
      "enter the weight\t20\n",
      "enter the profit value\t30\n",
      "enter the weight\t30\n",
      "enter the profit value\t66\n",
      "enter the weight\t40\n",
      "enter the profit value\t40\n",
      "enter the weight\t50\n",
      "enter the profit value\t60\n",
      "********************\n",
      "Total profit earned 164.0\n",
      "********************\n",
      "Detailed report of the item filled in the bag\n",
      "Item 0 is fully filled in the bag\n",
      "Item 1 is fully filled in the bag\n",
      "Item 2 is fully filled in the bag\n",
      "Item 3 is parital filled 0.8 in the bag\n",
      "Item 4 is not filled in the bag\n"
     ]
    }
   ],
   "source": [
    "bag_weight = int(input(\"enter the bag capacity\\t\"))  #It takes bag capacity as input\n",
    "no_item = int(input(\"enter the number of items\\t\"))  \n",
    "index = 1\n",
    "items = []\n",
    "while index<=no_item:\n",
    "    weight = int(input(\"enter the weight\\t\"))\n",
    "    profit = int(input(\"enter the profit value\\t\"))\n",
    "    profit_ratio = round(profit/weight,2)\n",
    "    tuple_value = weight,profit,profit_ratio\n",
    "    items.append(tuple_value)\n",
    "    index = index + 1\n",
    "knapsack(items,bag_weight)"
   ]
  }
 ],
 "metadata": {
  "kernelspec": {
   "display_name": "Python 3",
   "language": "python",
   "name": "python3"
  },
  "language_info": {
   "codemirror_mode": {
    "name": "ipython",
    "version": 3
   },
   "file_extension": ".py",
   "mimetype": "text/x-python",
   "name": "python",
   "nbconvert_exporter": "python",
   "pygments_lexer": "ipython3",
   "version": "3.8.3"
  }
 },
 "nbformat": 4,
 "nbformat_minor": 4
}
