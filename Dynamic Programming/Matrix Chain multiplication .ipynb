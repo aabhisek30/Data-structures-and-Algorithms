{
 "cells": [
  {
   "cell_type": "markdown",
   "metadata": {},
   "source": [
    "# Aim - Implement matrix chain multiplication using dynamic programming concepts."
   ]
  },
  {
   "cell_type": "markdown",
   "metadata": {},
   "source": [
    "printopspare() prints order of the multiplication of the matrix accoring to the parenthsis table\n",
    "1. Input : -\n",
    "    - s - parenthsis table\n",
    "    - i - row number to probe\n",
    "    - j - column number to probe\n",
    "2. Output : -\n",
    "        - order of multplication of matrix"
   ]
  },
  {
   "cell_type": "code",
   "execution_count": 2,
   "metadata": {},
   "outputs": [],
   "source": [
    "def printopspare(s,i,j):\n",
    "    \"\"\"This function gives matrix muliplication order\"\"\"\n",
    "    if i==j:\n",
    "        print(\"A\",i,end=\" \")\n",
    "    else:\n",
    "        print(\"(\",end=\" \")\n",
    "        printopspare(s,i,s[i][j])\n",
    "        printopspare(s,s[i][j]+1,j)\n",
    "        print(\")\",end=\" \")"
   ]
  },
  {
   "cell_type": "markdown",
   "metadata": {},
   "source": [
    "matrix_chain_order() function develop multiplication table and parenthis table from dimension array\n",
    "\n",
    "1. Input :- dimension array\n",
    "2. calling function printopspare()"
   ]
  },
  {
   "cell_type": "code",
   "execution_count": 5,
   "metadata": {},
   "outputs": [
    {
     "name": "stdout",
     "output_type": "stream",
     "text": [
      "Multiplication cost table\n",
      "[0, 0, 0, 0]\n",
      "[0, 0, 5000, 7500]\n",
      "[0, 0, 0, 25000]\n",
      "[0, 0, 0, 0]\n",
      "parentheses table\n",
      "[0, 0, 0, 0]\n",
      "[0, 0, 1, 2]\n",
      "[0, 0, 0, 2]\n",
      "[0, 0, 0, 0]\n",
      "Least number of multiplication required 7500\n",
      "Order of multiplication\n",
      "( ( A 1 A 2 ) A 3 ) "
     ]
    }
   ],
   "source": [
    "def matrix_chain_order(p):\n",
    "    \"\"\"\n",
    "    This function do matrix chain multiplication and gives least number of multiplication\n",
    "    \"\"\"\n",
    "    max_value = 100000\n",
    "    no_of_matrix = len(p) \n",
    "    m = [[0 for i in range(no_of_matrix)] for j in range(no_of_matrix)]\n",
    "    s = [[0 for i in range(no_of_matrix)] for j in range(no_of_matrix)]\n",
    "    for i in range(no_of_matrix):\n",
    "        m[i][i] = 0\n",
    "    for l in range(2,no_of_matrix):\n",
    "        for i in range(1,no_of_matrix-l+1):\n",
    "            j = i + l - 1\n",
    "            m[i][j] = max_value\n",
    "            for k in range(i,j):\n",
    "                q = m[i][k] + m[k+1][j] + p[i-1]*p[k]*p[j]\n",
    "                if q<m[i][j]:\n",
    "                    m[i][j]=q\n",
    "                    s[i][j]=k\n",
    "    print(\"Multiplication cost table\")\n",
    "    for i in range(len(m)):\n",
    "        print(m[i])\n",
    "    print(\"parentheses table\")\n",
    "    for i in range(len(s)):\n",
    "        print(s[i])\n",
    "    print(\"Least number of multiplication required\",m[1][no_of_matrix-1])\n",
    "    print(\"Order of multiplication\")\n",
    "    printopspare(s,1,no_of_matrix-1)\n",
    "matrix_chain_order([10,100,5,50])"
   ]
  }
 ],
 "metadata": {
  "kernelspec": {
   "display_name": "Python 3",
   "language": "python",
   "name": "python3"
  },
  "language_info": {
   "codemirror_mode": {
    "name": "ipython",
    "version": 3
   },
   "file_extension": ".py",
   "mimetype": "text/x-python",
   "name": "python",
   "nbconvert_exporter": "python",
   "pygments_lexer": "ipython3",
   "version": "3.8.3"
  }
 },
 "nbformat": 4,
 "nbformat_minor": 4
}
