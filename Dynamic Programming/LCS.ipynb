{
 "cells": [
  {
   "cell_type": "markdown",
   "metadata": {},
   "source": [
    "# Aim - Implement Longest common subsequence using dynamic programming concepts."
   ]
  },
  {
   "cell_type": "markdown",
   "metadata": {},
   "source": [
    "printLCS prints  the longest common subsequence in 2 strings\n",
    "1. Input : -\n",
    "    - S -  Arrow table\n",
    "    - X - First string\n",
    "    - i - length of 1st string\n",
    "    - j - length of 2nd string\n",
    "2. Output : -\n",
    "        - Longest subseqeunce order"
   ]
  },
  {
   "cell_type": "code",
   "execution_count": 7,
   "metadata": {},
   "outputs": [],
   "source": [
    "def printLCS(S,X,i,j):\n",
    "    \"\"\"\n",
    "    This function prints the longest common subsequence in 2 strings\n",
    "    \"\"\"\n",
    "    if i == 0 or j == 0:\n",
    "        return\n",
    "    if S[i][j] == \"a\":\n",
    "        printLCS(S,X,i-1,j-1)\n",
    "        print(X[i-1],end = \" \")\n",
    "    elif S[i][j] == \"c\":\n",
    "        printLCS(S,X,i-1,j)\n",
    "    else:\n",
    "        printLCS(S,X,i,j-1)"
   ]
  },
  {
   "cell_type": "code",
   "execution_count": null,
   "metadata": {},
   "outputs": [],
   "source": [
    "LCS() prints  the longest common subsequence in 2 strings\n",
    "1. Input : \n",
    "    - X - First string\n",
    "    - Y - Second string\n",
    "2. Output : -\n",
    "        - Length of Longest subseqeunce order"
   ]
  },
  {
   "cell_type": "code",
   "execution_count": 14,
   "metadata": {},
   "outputs": [
    {
     "name": "stdout",
     "output_type": "stream",
     "text": [
      "The value matrix\n",
      "[0, 0, 0, 0, 0, 0, 0]\n",
      "[0, 0, 0, 0, 1, 1, 1]\n",
      "[0, 1, 1, 1, 1, 2, 2]\n",
      "[0, 1, 1, 2, 2, 2, 2]\n",
      "[0, 1, 1, 2, 2, 3, 3]\n",
      "[0, 1, 2, 2, 2, 3, 3]\n",
      "[0, 1, 2, 2, 3, 3, 4]\n",
      "The tracking matrix\n",
      "[None, None, None, None, None, None, None]\n",
      "[None, 'c', 'c', 'c', 'a', 'b', 'a']\n",
      "[None, 'a', 'b', 'b', 'c', 'a', 'b']\n",
      "[None, 'c', 'c', 'a', 'b', 'c', 'c']\n",
      "[None, 'a', 'c', 'c', 'c', 'a', 'b']\n",
      "[None, 'c', 'a', 'c', 'c', 'c', 'c']\n",
      "[None, 'c', 'c', 'c', 'a', 'c', 'a']\n",
      "The longest common subsequence is\n",
      "B C B A \n",
      "length of longest common subsequence   4\n"
     ]
    }
   ],
   "source": [
    "def lcs(X , Y): \n",
    "    \"\"\"\n",
    "    This function makes LCS table and print the length of longest common subsequence\n",
    "    \"\"\" \n",
    "    m = len(X) \n",
    "    n = len(Y) \n",
    "    L = [[None]*(n+1) for i in range(m+1)] \n",
    "    S = [[None]*(n+1) for i in range(m+1)] \n",
    "    for i in range(m+1): \n",
    "        for j in range(n+1): \n",
    "            if i == 0 or j == 0 : \n",
    "                L[i][j] = 0\n",
    "            elif X[i-1] == Y[j-1]: \n",
    "                L[i][j] = L[i-1][j-1]+1\n",
    "                S[i][j] = \"a\"\n",
    "            else: \n",
    "                if L[i-1][j] < L[i][j-1]:\n",
    "                    L[i][j] = L[i][j-1]\n",
    "                    S[i][j] = \"b\"\n",
    "                else:\n",
    "                    L[i][j] = L[i-1][j]\n",
    "                    S[i][j] = \"c\"\n",
    "    print(\"The value matrix\")                \n",
    "    for i in range(len(L)):\n",
    "        print(L[i])\n",
    "    print(\"The tracking matrix\")\n",
    "    for i in range(len(S)):\n",
    "        print(S[i])\n",
    "    print(\"The longest common subsequence is\")\n",
    "    printLCS(S,X,m,n)\n",
    "    return L[m][n]  \n",
    "X = \"ABCBDA\"\n",
    "Y = \"BDCABA\"\n",
    "print(\"\\nlength of longest common subsequence  \", lcs(X, Y)) "
   ]
  }
 ],
 "metadata": {
  "kernelspec": {
   "display_name": "Python 3",
   "language": "python",
   "name": "python3"
  },
  "language_info": {
   "codemirror_mode": {
    "name": "ipython",
    "version": 3
   },
   "file_extension": ".py",
   "mimetype": "text/x-python",
   "name": "python",
   "nbconvert_exporter": "python",
   "pygments_lexer": "ipython3",
   "version": "3.8.3"
  }
 },
 "nbformat": 4,
 "nbformat_minor": 4
}
