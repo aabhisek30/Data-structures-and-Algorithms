{
 "cells": [
  {
   "cell_type": "markdown",
   "metadata": {},
   "source": [
    "# Aim - Implement knapsack problem using dynamic programming concepts."
   ]
  },
  {
   "cell_type": "markdown",
   "metadata": {},
   "source": [
    "printknapsack() prints  the longest common subsequence in 2 strings\n",
    "1. Input : -\n",
    "    - k - knapsack table\n",
    "    - n - no of items\n",
    "    - C - capacity of knapsack\n",
    "    - wt - weight of items\n",
    "    - value - values of items\n",
    "2. Output : -\n",
    "        - Print the items chosen by dynamic programming"
   ]
  },
  {
   "cell_type": "code",
   "execution_count": 3,
   "metadata": {},
   "outputs": [],
   "source": [
    "def printknapSack(k,n,C,wt,value):\n",
    "    \"\"\"\n",
    "    this function prints the items which are chosen by dynamic programming\n",
    "    \"\"\"\n",
    "    w = C\n",
    "    res = k[n][w]\n",
    "    print(\"Describing how profit gained\")\n",
    "    for i in range(n,0, -1): \n",
    "        if res <= 0: \n",
    "            break\n",
    "        if res == k[i - 1][w]: \n",
    "            continue\n",
    "        else: \n",
    "            if wt[i]>0:\n",
    "                print(\"item {} with weight {} and value {}\".format(i,wt[i],val[i]))\n",
    "                res = res-val[i - 1] \n",
    "                w = w - wt[i - 1] "
   ]
  },
  {
   "cell_type": "markdown",
   "metadata": {},
   "source": [
    "knapsack() prints  the longest common subsequence in 2 strings\n",
    "1. Input : -\n",
    "    - C - capacity of knapsack\n",
    "    - weight - weight of items\n",
    "    - value - values of items\n",
    "    - no_of_item"
   ]
  },
  {
   "cell_type": "code",
   "execution_count": 27,
   "metadata": {
    "colab": {
     "base_uri": "https://localhost:8080/"
    },
    "executionInfo": {
     "elapsed": 1476,
     "status": "ok",
     "timestamp": 1609863082114,
     "user": {
      "displayName": "Abhisek Sharma",
      "photoUrl": "",
      "userId": "01291971815176337637"
     },
     "user_tz": -330
    },
    "id": "Gml6G6ERGIOM",
    "outputId": "0b293d62-e033-443b-cbe0-01032a2391ed"
   },
   "outputs": [
    {
     "name": "stdout",
     "output_type": "stream",
     "text": [
      "knapsack table before applying algo\n",
      "[0, 0, 0, 0, 0, 0]\n",
      "[0, 0, 0, 0, 0, 0]\n",
      "[0, 0, 0, 0, 0, 0]\n",
      "[0, 0, 0, 0, 0, 0]\n",
      "[0, 0, 0, 0, 0, 0]\n",
      "knapsack table after applying algo\n",
      "[0, 0, 0, 0, 0, 0]\n",
      "[0, 0, 3, 3, 3, 3]\n",
      "[0, 0, 3, 4, 4, 7]\n",
      "[0, 0, 3, 4, 5, 7]\n",
      "[0, 0, 3, 4, 5, 7]\n",
      "Total profit gained 7\n",
      "Describing how profit gained\n",
      "item 2 with weight 3 and value 4\n",
      "item 1 with weight 2 and value 3\n"
     ]
    }
   ],
   "source": [
    "def knapSack(C,weight,value,no_of_item):\n",
    "    \"\"\"\n",
    "    This function apply 0/1 knapsack algorithm to the weight and value item\n",
    "    \"\"\"\n",
    "    K = [[0 for i in range(C+1)] for j in range(no_of_item+1)]\n",
    "    print(\"knapsack table before applying algo\")\n",
    "    for i in range(len(K)):\n",
    "        print(K[i])\n",
    "    for i in range(1,no_of_item + 1):\n",
    "        for j in range(C + 1):\n",
    "            if weight[i] <= j:\n",
    "                if value[i]+K[i-1][j-weight[i]]>K[i-1][j]:\n",
    "                    K[i][j] = value[i]+K[i-1][j-weight[i]]\n",
    "                else:\n",
    "                    K[i][j] = K[i-1][j]                    \n",
    "            else:\n",
    "                K[i][j] = K[i-1][j]\n",
    "    print(\"knapsack table after applying algo\")\n",
    "    for i in range(len(K)):\n",
    "        print(K[i])\n",
    "    print(\"Total profit gained\",K[no_of_item][C])\n",
    "    w = weight\n",
    "    printknapSack(K,no_of_item,C,w,value)\n",
    "val = [0,3,4,5,6] \n",
    "wt = [0,2,3,4,5] \n",
    "W = 5\n",
    "n = 4\n",
    "knapSack(W, wt, val, n)\n",
    "    "
   ]
  }
 ],
 "metadata": {
  "colab": {
   "name": "knapsack.ipynb",
   "provenance": []
  },
  "kernelspec": {
   "display_name": "Python 3",
   "language": "python",
   "name": "python3"
  },
  "language_info": {
   "codemirror_mode": {
    "name": "ipython",
    "version": 3
   },
   "file_extension": ".py",
   "mimetype": "text/x-python",
   "name": "python",
   "nbconvert_exporter": "python",
   "pygments_lexer": "ipython3",
   "version": "3.8.3"
  }
 },
 "nbformat": 4,
 "nbformat_minor": 1
}
